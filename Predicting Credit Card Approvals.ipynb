{
 "cells": [
  {
   "cell_type": "markdown",
   "id": "51c82673-bc4a-4f3b-8718-9049933b3e83",
   "metadata": {
    "tags": []
   },
   "source": [
    "## **Predicting Credit Card Approvals**\n",
    "\n",
    "Most commerical banks will receive plenty of applications for credit cards. Rejections can be due to factors such as high loan balances, low income level, low credit score etc. Manually analyzing these applications is mundane, error-prone, and time-consuming. \n",
    "\n",
    "Objective: In this notebook, we will be trying to build an automatic credit card approval predictor using machine learning techniques.\n",
    "\n",
    "We will be using the [Credit Card Approval](https://archive.ics.uci.edu/ml/datasets/credit+approval) dataset from the [UCI Machine Learning Repository](https://archive-beta.ics.uci.edu/), which is a collection of credit card applications and the credit approval decisions.\n",
    "\n",
    "Dataset used with reference to Quinlan, Quinlan. Credit Approval. UCI Machine Learning Repository."
   ]
  },
  {
   "cell_type": "markdown",
   "id": "005ee383-61cf-4606-8e70-788063d8490e",
   "metadata": {
    "tags": []
   },
   "source": [
    "### **Import Libraries**"
   ]
  },
  {
   "cell_type": "code",
   "execution_count": 1,
   "id": "8ecebab0-f972-4754-b343-43a04d3945a8",
   "metadata": {
    "tags": []
   },
   "outputs": [],
   "source": [
    "# Import necessary libraries\n",
    "import pandas as pd\n",
    "import numpy as np\n",
    "import matplotlib.pyplot as plt\n",
    "import seaborn as sns\n",
    "%matplotlib inline\n",
    "from sklearn.impute import SimpleImputer\n",
    "from sklearn.preprocessing import MinMaxScaler, OneHotEncoder\n",
    "from sklearn.compose import make_column_transformer, make_column_selector\n",
    "from sklearn.pipeline import make_pipeline\n",
    "from sklearn.linear_model import LogisticRegression\n",
    "from sklearn.model_selection import cross_val_score\n",
    "from sklearn.model_selection import GridSearchCV"
   ]
  },
  {
   "cell_type": "markdown",
   "id": "60494a06-e1de-46d9-bbe3-dd49be14a865",
   "metadata": {
    "tags": []
   },
   "source": [
    "### **Load Dataset**"
   ]
  },
  {
   "cell_type": "code",
   "execution_count": 2,
   "id": "545e7000-0fc8-4293-902a-afaca2454127",
   "metadata": {},
   "outputs": [
    {
     "name": "stdout",
     "output_type": "stream",
     "text": [
      "<class 'pandas.core.frame.DataFrame'>\n",
      "RangeIndex: 690 entries, 0 to 689\n",
      "Data columns (total 16 columns):\n",
      " #   Column  Non-Null Count  Dtype  \n",
      "---  ------  --------------  -----  \n",
      " 0   0       690 non-null    object \n",
      " 1   1       690 non-null    object \n",
      " 2   2       690 non-null    float64\n",
      " 3   3       690 non-null    object \n",
      " 4   4       690 non-null    object \n",
      " 5   5       690 non-null    object \n",
      " 6   6       690 non-null    object \n",
      " 7   7       690 non-null    float64\n",
      " 8   8       690 non-null    object \n",
      " 9   9       690 non-null    object \n",
      " 10  10      690 non-null    int64  \n",
      " 11  11      690 non-null    object \n",
      " 12  12      690 non-null    object \n",
      " 13  13      690 non-null    object \n",
      " 14  14      690 non-null    int64  \n",
      " 15  15      690 non-null    object \n",
      "dtypes: float64(2), int64(2), object(12)\n",
      "memory usage: 86.4+ KB\n"
     ]
    },
    {
     "data": {
      "text/html": [
       "<div>\n",
       "<style scoped>\n",
       "    .dataframe tbody tr th:only-of-type {\n",
       "        vertical-align: middle;\n",
       "    }\n",
       "\n",
       "    .dataframe tbody tr th {\n",
       "        vertical-align: top;\n",
       "    }\n",
       "\n",
       "    .dataframe thead th {\n",
       "        text-align: right;\n",
       "    }\n",
       "</style>\n",
       "<table border=\"1\" class=\"dataframe\">\n",
       "  <thead>\n",
       "    <tr style=\"text-align: right;\">\n",
       "      <th></th>\n",
       "      <th>0</th>\n",
       "      <th>1</th>\n",
       "      <th>2</th>\n",
       "      <th>3</th>\n",
       "      <th>4</th>\n",
       "      <th>5</th>\n",
       "      <th>6</th>\n",
       "      <th>7</th>\n",
       "      <th>8</th>\n",
       "      <th>9</th>\n",
       "      <th>10</th>\n",
       "      <th>11</th>\n",
       "      <th>12</th>\n",
       "      <th>13</th>\n",
       "      <th>14</th>\n",
       "      <th>15</th>\n",
       "    </tr>\n",
       "  </thead>\n",
       "  <tbody>\n",
       "    <tr>\n",
       "      <th>0</th>\n",
       "      <td>b</td>\n",
       "      <td>30.83</td>\n",
       "      <td>0.000</td>\n",
       "      <td>u</td>\n",
       "      <td>g</td>\n",
       "      <td>w</td>\n",
       "      <td>v</td>\n",
       "      <td>1.25</td>\n",
       "      <td>t</td>\n",
       "      <td>t</td>\n",
       "      <td>1</td>\n",
       "      <td>f</td>\n",
       "      <td>g</td>\n",
       "      <td>00202</td>\n",
       "      <td>0</td>\n",
       "      <td>+</td>\n",
       "    </tr>\n",
       "    <tr>\n",
       "      <th>1</th>\n",
       "      <td>a</td>\n",
       "      <td>58.67</td>\n",
       "      <td>4.460</td>\n",
       "      <td>u</td>\n",
       "      <td>g</td>\n",
       "      <td>q</td>\n",
       "      <td>h</td>\n",
       "      <td>3.04</td>\n",
       "      <td>t</td>\n",
       "      <td>t</td>\n",
       "      <td>6</td>\n",
       "      <td>f</td>\n",
       "      <td>g</td>\n",
       "      <td>00043</td>\n",
       "      <td>560</td>\n",
       "      <td>+</td>\n",
       "    </tr>\n",
       "    <tr>\n",
       "      <th>2</th>\n",
       "      <td>a</td>\n",
       "      <td>24.50</td>\n",
       "      <td>0.500</td>\n",
       "      <td>u</td>\n",
       "      <td>g</td>\n",
       "      <td>q</td>\n",
       "      <td>h</td>\n",
       "      <td>1.50</td>\n",
       "      <td>t</td>\n",
       "      <td>f</td>\n",
       "      <td>0</td>\n",
       "      <td>f</td>\n",
       "      <td>g</td>\n",
       "      <td>00280</td>\n",
       "      <td>824</td>\n",
       "      <td>+</td>\n",
       "    </tr>\n",
       "    <tr>\n",
       "      <th>3</th>\n",
       "      <td>b</td>\n",
       "      <td>27.83</td>\n",
       "      <td>1.540</td>\n",
       "      <td>u</td>\n",
       "      <td>g</td>\n",
       "      <td>w</td>\n",
       "      <td>v</td>\n",
       "      <td>3.75</td>\n",
       "      <td>t</td>\n",
       "      <td>t</td>\n",
       "      <td>5</td>\n",
       "      <td>t</td>\n",
       "      <td>g</td>\n",
       "      <td>00100</td>\n",
       "      <td>3</td>\n",
       "      <td>+</td>\n",
       "    </tr>\n",
       "    <tr>\n",
       "      <th>4</th>\n",
       "      <td>b</td>\n",
       "      <td>20.17</td>\n",
       "      <td>5.625</td>\n",
       "      <td>u</td>\n",
       "      <td>g</td>\n",
       "      <td>w</td>\n",
       "      <td>v</td>\n",
       "      <td>1.71</td>\n",
       "      <td>t</td>\n",
       "      <td>f</td>\n",
       "      <td>0</td>\n",
       "      <td>f</td>\n",
       "      <td>s</td>\n",
       "      <td>00120</td>\n",
       "      <td>0</td>\n",
       "      <td>+</td>\n",
       "    </tr>\n",
       "  </tbody>\n",
       "</table>\n",
       "</div>"
      ],
      "text/plain": [
       "  0      1      2  3  4  5  6     7  8  9   10 11 12     13   14 15\n",
       "0  b  30.83  0.000  u  g  w  v  1.25  t  t   1  f  g  00202    0  +\n",
       "1  a  58.67  4.460  u  g  q  h  3.04  t  t   6  f  g  00043  560  +\n",
       "2  a  24.50  0.500  u  g  q  h  1.50  t  f   0  f  g  00280  824  +\n",
       "3  b  27.83  1.540  u  g  w  v  3.75  t  t   5  t  g  00100    3  +\n",
       "4  b  20.17  5.625  u  g  w  v  1.71  t  f   0  f  s  00120    0  +"
      ]
     },
     "execution_count": 2,
     "metadata": {},
     "output_type": "execute_result"
    }
   ],
   "source": [
    "# Load the dataset\n",
    "cc_apps_master = pd.read_csv('https://archive.ics.uci.edu/ml/machine-learning-databases/credit-screening/crx.data', header=None)\n",
    "\n",
    "# Preview data\n",
    "cc_apps_master.info()\n",
    "cc_apps_master.head()"
   ]
  },
  {
   "cell_type": "markdown",
   "id": "21cab074-4e8d-4b94-8aaa-c430e1724145",
   "metadata": {
    "tags": []
   },
   "source": [
    "### **Inspecting Data**"
   ]
  },
  {
   "cell_type": "markdown",
   "id": "458d6909-42a6-487a-9d19-bb006f5fee80",
   "metadata": {},
   "source": [
    "The nature of the output is confusing due to the data being anonymised to protect the individual applicant's privacy. The [codebook](https://archive.ics.uci.edu/ml/machine-learning-databases/credit-screening/crx.names) available here clearly shows the features of the dataset, which we will assign to working variables to make working with the data easier and more convenient. We will use the column names as referenced in this [blog post](https://rstudio-pubs-static.s3.amazonaws.com/73039_9946de135c0a49daa7a0a9eda4a67a72.html) and assign the names accordingly."
   ]
  },
  {
   "cell_type": "code",
   "execution_count": 3,
   "id": "bf739f78-13ae-47a8-bc2e-4154f70ce091",
   "metadata": {
    "tags": []
   },
   "outputs": [
    {
     "data": {
      "text/html": [
       "<div>\n",
       "<style scoped>\n",
       "    .dataframe tbody tr th:only-of-type {\n",
       "        vertical-align: middle;\n",
       "    }\n",
       "\n",
       "    .dataframe tbody tr th {\n",
       "        vertical-align: top;\n",
       "    }\n",
       "\n",
       "    .dataframe thead th {\n",
       "        text-align: right;\n",
       "    }\n",
       "</style>\n",
       "<table border=\"1\" class=\"dataframe\">\n",
       "  <thead>\n",
       "    <tr style=\"text-align: right;\">\n",
       "      <th></th>\n",
       "      <th>Male</th>\n",
       "      <th>Age</th>\n",
       "      <th>Debt</th>\n",
       "      <th>Married</th>\n",
       "      <th>BankCustomer</th>\n",
       "      <th>EducationLevel</th>\n",
       "      <th>Ethnicity</th>\n",
       "      <th>YearsEmployed</th>\n",
       "      <th>PriorDefault</th>\n",
       "      <th>Employed</th>\n",
       "      <th>CreditScore</th>\n",
       "      <th>Citizen</th>\n",
       "      <th>Income</th>\n",
       "      <th>Approved</th>\n",
       "    </tr>\n",
       "  </thead>\n",
       "  <tbody>\n",
       "    <tr>\n",
       "      <th>0</th>\n",
       "      <td>b</td>\n",
       "      <td>30.83</td>\n",
       "      <td>0.000</td>\n",
       "      <td>u</td>\n",
       "      <td>g</td>\n",
       "      <td>w</td>\n",
       "      <td>v</td>\n",
       "      <td>1.25</td>\n",
       "      <td>t</td>\n",
       "      <td>t</td>\n",
       "      <td>1</td>\n",
       "      <td>g</td>\n",
       "      <td>0</td>\n",
       "      <td>+</td>\n",
       "    </tr>\n",
       "    <tr>\n",
       "      <th>1</th>\n",
       "      <td>a</td>\n",
       "      <td>58.67</td>\n",
       "      <td>4.460</td>\n",
       "      <td>u</td>\n",
       "      <td>g</td>\n",
       "      <td>q</td>\n",
       "      <td>h</td>\n",
       "      <td>3.04</td>\n",
       "      <td>t</td>\n",
       "      <td>t</td>\n",
       "      <td>6</td>\n",
       "      <td>g</td>\n",
       "      <td>560</td>\n",
       "      <td>+</td>\n",
       "    </tr>\n",
       "    <tr>\n",
       "      <th>2</th>\n",
       "      <td>a</td>\n",
       "      <td>24.50</td>\n",
       "      <td>0.500</td>\n",
       "      <td>u</td>\n",
       "      <td>g</td>\n",
       "      <td>q</td>\n",
       "      <td>h</td>\n",
       "      <td>1.50</td>\n",
       "      <td>t</td>\n",
       "      <td>f</td>\n",
       "      <td>0</td>\n",
       "      <td>g</td>\n",
       "      <td>824</td>\n",
       "      <td>+</td>\n",
       "    </tr>\n",
       "    <tr>\n",
       "      <th>3</th>\n",
       "      <td>b</td>\n",
       "      <td>27.83</td>\n",
       "      <td>1.540</td>\n",
       "      <td>u</td>\n",
       "      <td>g</td>\n",
       "      <td>w</td>\n",
       "      <td>v</td>\n",
       "      <td>3.75</td>\n",
       "      <td>t</td>\n",
       "      <td>t</td>\n",
       "      <td>5</td>\n",
       "      <td>g</td>\n",
       "      <td>3</td>\n",
       "      <td>+</td>\n",
       "    </tr>\n",
       "    <tr>\n",
       "      <th>4</th>\n",
       "      <td>b</td>\n",
       "      <td>20.17</td>\n",
       "      <td>5.625</td>\n",
       "      <td>u</td>\n",
       "      <td>g</td>\n",
       "      <td>w</td>\n",
       "      <td>v</td>\n",
       "      <td>1.71</td>\n",
       "      <td>t</td>\n",
       "      <td>f</td>\n",
       "      <td>0</td>\n",
       "      <td>s</td>\n",
       "      <td>0</td>\n",
       "      <td>+</td>\n",
       "    </tr>\n",
       "  </tbody>\n",
       "</table>\n",
       "</div>"
      ],
      "text/plain": [
       "  Male    Age   Debt Married BankCustomer EducationLevel Ethnicity  \\\n",
       "0    b  30.83  0.000       u            g              w         v   \n",
       "1    a  58.67  4.460       u            g              q         h   \n",
       "2    a  24.50  0.500       u            g              q         h   \n",
       "3    b  27.83  1.540       u            g              w         v   \n",
       "4    b  20.17  5.625       u            g              w         v   \n",
       "\n",
       "   YearsEmployed PriorDefault Employed  CreditScore Citizen  Income Approved  \n",
       "0           1.25            t        t            1       g       0        +  \n",
       "1           3.04            t        t            6       g     560        +  \n",
       "2           1.50            t        f            0       g     824        +  \n",
       "3           3.75            t        t            5       g       3        +  \n",
       "4           1.71            t        f            0       s       0        +  "
      ]
     },
     "execution_count": 3,
     "metadata": {},
     "output_type": "execute_result"
    }
   ],
   "source": [
    "# Rename the columns of the list \n",
    "cc_apps_master.columns = ['Male',\n",
    "                   'Age',\n",
    "                   'Debt',\n",
    "                   'Married',\n",
    "                   'BankCustomer',\n",
    "                   'EducationLevel',\n",
    "                   'Ethnicity',\n",
    "                   'YearsEmployed',\n",
    "                   'PriorDefault',\n",
    "                   'Employed',\n",
    "                   'CreditScore',\n",
    "                   'DriversLicense', \n",
    "                   'Citizen', \n",
    "                   'ZipCode', \n",
    "                   'Income', \n",
    "                   'Approved']\n",
    "\n",
    "# Drop features that should not usually affect the prediction of the respone and save in the working file\n",
    "cc_apps = cc_apps_master.drop(['DriversLicense', 'ZipCode'], axis='columns')\n",
    "\n",
    "# Preview data\n",
    "cc_apps.head()"
   ]
  },
  {
   "cell_type": "code",
   "execution_count": 4,
   "id": "c4c411c0-8d5f-4de8-a1e0-27c94cbc1a40",
   "metadata": {},
   "outputs": [
    {
     "data": {
      "text/plain": [
       "Male              0\n",
       "Age               0\n",
       "Debt              0\n",
       "Married           0\n",
       "BankCustomer      0\n",
       "EducationLevel    0\n",
       "Ethnicity         0\n",
       "YearsEmployed     0\n",
       "PriorDefault      0\n",
       "Employed          0\n",
       "CreditScore       0\n",
       "Citizen           0\n",
       "Income            0\n",
       "Approved          0\n",
       "dtype: int64"
      ]
     },
     "execution_count": 4,
     "metadata": {},
     "output_type": "execute_result"
    }
   ],
   "source": [
    "# Inspecting the missing values\n",
    "cc_apps.isna().sum()"
   ]
  },
  {
   "cell_type": "code",
   "execution_count": 5,
   "id": "78b6ae32-d7af-4a18-8538-c2543c1d8dad",
   "metadata": {},
   "outputs": [
    {
     "data": {
      "text/plain": [
       "Male  Age    Debt    Married  BankCustomer  EducationLevel  Ethnicity  YearsEmployed  PriorDefault  Employed  CreditScore  Citizen  Income  Approved\n",
       "?     20.08  0.125   u        g             q               v          1.000          f             t         1            g        768     +           1\n",
       "b     30.17  6.500   u        g             cc              v          3.125          t             t         8            g        1200    +           1\n",
       "      29.67  1.415   u        g             w               h          0.750          t             t         1            g        100     +           1\n",
       "      29.83  1.250   y        p             k               v          0.250          f             f         0            g        0       -           1\n",
       "             2.040   y        p             x               h          0.040          f             f         0            g        1       -           1\n",
       "                                                                                                                                                       ..\n",
       "      16.50  0.125   u        g             c               v          0.165          f             f         0            g        0       -           1\n",
       "      16.92  0.335   y        p             k               v          0.290          f             f         0            s        0       -           1\n",
       "      17.08  0.085   y        p             c               v          0.040          f             f         0            g        722     -           1\n",
       "             0.250   u        g             q               v          0.335          f             t         4            g        8       -           1\n",
       "      ?      10.500  u        g             x               v          6.500          t             f         0            g        0       +           1\n",
       "Length: 690, dtype: int64"
      ]
     },
     "execution_count": 5,
     "metadata": {},
     "output_type": "execute_result"
    }
   ],
   "source": [
    "cc_apps.value_counts()"
   ]
  },
  {
   "cell_type": "code",
   "execution_count": 6,
   "id": "c3953c7f-916c-4bfd-a63b-1e7b27aacac5",
   "metadata": {},
   "outputs": [
    {
     "data": {
      "text/html": [
       "<div>\n",
       "<style scoped>\n",
       "    .dataframe tbody tr th:only-of-type {\n",
       "        vertical-align: middle;\n",
       "    }\n",
       "\n",
       "    .dataframe tbody tr th {\n",
       "        vertical-align: top;\n",
       "    }\n",
       "\n",
       "    .dataframe thead th {\n",
       "        text-align: right;\n",
       "    }\n",
       "</style>\n",
       "<table border=\"1\" class=\"dataframe\">\n",
       "  <thead>\n",
       "    <tr style=\"text-align: right;\">\n",
       "      <th></th>\n",
       "      <th>Debt</th>\n",
       "      <th>YearsEmployed</th>\n",
       "      <th>CreditScore</th>\n",
       "      <th>Income</th>\n",
       "    </tr>\n",
       "  </thead>\n",
       "  <tbody>\n",
       "    <tr>\n",
       "      <th>count</th>\n",
       "      <td>690.000000</td>\n",
       "      <td>690.000000</td>\n",
       "      <td>690.00000</td>\n",
       "      <td>690.000000</td>\n",
       "    </tr>\n",
       "    <tr>\n",
       "      <th>mean</th>\n",
       "      <td>4.758725</td>\n",
       "      <td>2.223406</td>\n",
       "      <td>2.40000</td>\n",
       "      <td>1017.385507</td>\n",
       "    </tr>\n",
       "    <tr>\n",
       "      <th>std</th>\n",
       "      <td>4.978163</td>\n",
       "      <td>3.346513</td>\n",
       "      <td>4.86294</td>\n",
       "      <td>5210.102598</td>\n",
       "    </tr>\n",
       "    <tr>\n",
       "      <th>min</th>\n",
       "      <td>0.000000</td>\n",
       "      <td>0.000000</td>\n",
       "      <td>0.00000</td>\n",
       "      <td>0.000000</td>\n",
       "    </tr>\n",
       "    <tr>\n",
       "      <th>25%</th>\n",
       "      <td>1.000000</td>\n",
       "      <td>0.165000</td>\n",
       "      <td>0.00000</td>\n",
       "      <td>0.000000</td>\n",
       "    </tr>\n",
       "    <tr>\n",
       "      <th>50%</th>\n",
       "      <td>2.750000</td>\n",
       "      <td>1.000000</td>\n",
       "      <td>0.00000</td>\n",
       "      <td>5.000000</td>\n",
       "    </tr>\n",
       "    <tr>\n",
       "      <th>75%</th>\n",
       "      <td>7.207500</td>\n",
       "      <td>2.625000</td>\n",
       "      <td>3.00000</td>\n",
       "      <td>395.500000</td>\n",
       "    </tr>\n",
       "    <tr>\n",
       "      <th>max</th>\n",
       "      <td>28.000000</td>\n",
       "      <td>28.500000</td>\n",
       "      <td>67.00000</td>\n",
       "      <td>100000.000000</td>\n",
       "    </tr>\n",
       "  </tbody>\n",
       "</table>\n",
       "</div>"
      ],
      "text/plain": [
       "             Debt  YearsEmployed  CreditScore         Income\n",
       "count  690.000000     690.000000    690.00000     690.000000\n",
       "mean     4.758725       2.223406      2.40000    1017.385507\n",
       "std      4.978163       3.346513      4.86294    5210.102598\n",
       "min      0.000000       0.000000      0.00000       0.000000\n",
       "25%      1.000000       0.165000      0.00000       0.000000\n",
       "50%      2.750000       1.000000      0.00000       5.000000\n",
       "75%      7.207500       2.625000      3.00000     395.500000\n",
       "max     28.000000      28.500000     67.00000  100000.000000"
      ]
     },
     "execution_count": 6,
     "metadata": {},
     "output_type": "execute_result"
    }
   ],
   "source": [
    "# View the summary statistics\n",
    "cc_apps.describe()"
   ]
  },
  {
   "cell_type": "code",
   "execution_count": 7,
   "id": "1937fd70-33b7-4796-a9fc-baf09a222c9e",
   "metadata": {},
   "outputs": [
    {
     "name": "stdout",
     "output_type": "stream",
     "text": [
      "----------------------------------------Male----------------------------------------\n"
     ]
    },
    {
     "data": {
      "text/plain": [
       "b    468\n",
       "a    210\n",
       "?     12\n",
       "Name: Male, dtype: int64"
      ]
     },
     "metadata": {},
     "output_type": "display_data"
    },
    {
     "name": "stdout",
     "output_type": "stream",
     "text": [
      "----------------------------------------Age----------------------------------------\n"
     ]
    },
    {
     "data": {
      "text/plain": [
       "?        12\n",
       "22.67     9\n",
       "20.42     7\n",
       "18.83     6\n",
       "24.50     6\n",
       "25.00     6\n",
       "19.17     6\n",
       "22.50     6\n",
       "20.67     6\n",
       "23.58     6\n",
       "Name: Age, dtype: int64"
      ]
     },
     "metadata": {},
     "output_type": "display_data"
    },
    {
     "name": "stdout",
     "output_type": "stream",
     "text": [
      "----------------------------------------Debt----------------------------------------\n"
     ]
    },
    {
     "data": {
      "text/plain": [
       "1.50    21\n",
       "0.00    19\n",
       "3.00    19\n",
       "2.50    19\n",
       "0.75    16\n",
       "1.25    16\n",
       "0.50    15\n",
       "5.00    14\n",
       "6.50    12\n",
       "1.75    12\n",
       "Name: Debt, dtype: int64"
      ]
     },
     "metadata": {},
     "output_type": "display_data"
    },
    {
     "name": "stdout",
     "output_type": "stream",
     "text": [
      "----------------------------------------Married----------------------------------------\n"
     ]
    },
    {
     "data": {
      "text/plain": [
       "u    519\n",
       "y    163\n",
       "?      6\n",
       "l      2\n",
       "Name: Married, dtype: int64"
      ]
     },
     "metadata": {},
     "output_type": "display_data"
    },
    {
     "name": "stdout",
     "output_type": "stream",
     "text": [
      "----------------------------------------BankCustomer----------------------------------------\n"
     ]
    },
    {
     "data": {
      "text/plain": [
       "g     519\n",
       "p     163\n",
       "?       6\n",
       "gg      2\n",
       "Name: BankCustomer, dtype: int64"
      ]
     },
     "metadata": {},
     "output_type": "display_data"
    },
    {
     "name": "stdout",
     "output_type": "stream",
     "text": [
      "----------------------------------------EducationLevel----------------------------------------\n"
     ]
    },
    {
     "data": {
      "text/plain": [
       "c     137\n",
       "q      78\n",
       "w      64\n",
       "i      59\n",
       "aa     54\n",
       "ff     53\n",
       "k      51\n",
       "cc     41\n",
       "m      38\n",
       "x      38\n",
       "Name: EducationLevel, dtype: int64"
      ]
     },
     "metadata": {},
     "output_type": "display_data"
    },
    {
     "name": "stdout",
     "output_type": "stream",
     "text": [
      "----------------------------------------Ethnicity----------------------------------------\n"
     ]
    },
    {
     "data": {
      "text/plain": [
       "v     399\n",
       "h     138\n",
       "bb     59\n",
       "ff     57\n",
       "?       9\n",
       "j       8\n",
       "z       8\n",
       "dd      6\n",
       "n       4\n",
       "o       2\n",
       "Name: Ethnicity, dtype: int64"
      ]
     },
     "metadata": {},
     "output_type": "display_data"
    },
    {
     "name": "stdout",
     "output_type": "stream",
     "text": [
      "----------------------------------------YearsEmployed----------------------------------------\n"
     ]
    },
    {
     "data": {
      "text/plain": [
       "0.000    70\n",
       "0.250    35\n",
       "0.040    33\n",
       "1.000    31\n",
       "0.125    30\n",
       "0.500    28\n",
       "0.085    26\n",
       "1.500    25\n",
       "0.165    22\n",
       "2.500    17\n",
       "Name: YearsEmployed, dtype: int64"
      ]
     },
     "metadata": {},
     "output_type": "display_data"
    },
    {
     "name": "stdout",
     "output_type": "stream",
     "text": [
      "----------------------------------------PriorDefault----------------------------------------\n"
     ]
    },
    {
     "data": {
      "text/plain": [
       "t    361\n",
       "f    329\n",
       "Name: PriorDefault, dtype: int64"
      ]
     },
     "metadata": {},
     "output_type": "display_data"
    },
    {
     "name": "stdout",
     "output_type": "stream",
     "text": [
      "----------------------------------------Employed----------------------------------------\n"
     ]
    },
    {
     "data": {
      "text/plain": [
       "f    395\n",
       "t    295\n",
       "Name: Employed, dtype: int64"
      ]
     },
     "metadata": {},
     "output_type": "display_data"
    },
    {
     "name": "stdout",
     "output_type": "stream",
     "text": [
      "----------------------------------------CreditScore----------------------------------------\n"
     ]
    },
    {
     "data": {
      "text/plain": [
       "0     395\n",
       "1      71\n",
       "2      45\n",
       "3      28\n",
       "6      23\n",
       "11     19\n",
       "5      18\n",
       "7      16\n",
       "4      15\n",
       "9      10\n",
       "Name: CreditScore, dtype: int64"
      ]
     },
     "metadata": {},
     "output_type": "display_data"
    },
    {
     "name": "stdout",
     "output_type": "stream",
     "text": [
      "----------------------------------------Citizen----------------------------------------\n"
     ]
    },
    {
     "data": {
      "text/plain": [
       "g    625\n",
       "s     57\n",
       "p      8\n",
       "Name: Citizen, dtype: int64"
      ]
     },
     "metadata": {},
     "output_type": "display_data"
    },
    {
     "name": "stdout",
     "output_type": "stream",
     "text": [
      "----------------------------------------Income----------------------------------------\n"
     ]
    },
    {
     "data": {
      "text/plain": [
       "0       295\n",
       "1        29\n",
       "500      10\n",
       "1000     10\n",
       "2         9\n",
       "6         8\n",
       "5         8\n",
       "300       8\n",
       "200       6\n",
       "100       6\n",
       "Name: Income, dtype: int64"
      ]
     },
     "metadata": {},
     "output_type": "display_data"
    },
    {
     "name": "stdout",
     "output_type": "stream",
     "text": [
      "----------------------------------------Approved----------------------------------------\n"
     ]
    },
    {
     "data": {
      "text/plain": [
       "-    383\n",
       "+    307\n",
       "Name: Approved, dtype: int64"
      ]
     },
     "metadata": {},
     "output_type": "display_data"
    }
   ],
   "source": [
    "# View count of unique values in each column\n",
    "for col in cc_apps.columns:\n",
    "    print('-' * 40 + col + '-' * 40)\n",
    "    display(cc_apps[col].value_counts().head(10))"
   ]
  },
  {
   "cell_type": "markdown",
   "id": "ebf81879-5490-4dcd-8c9b-14097cde2837",
   "metadata": {},
   "source": [
    " "
   ]
  },
  {
   "cell_type": "markdown",
   "id": "e6937a56-ed59-4f7f-93f7-f6f0c0d5362f",
   "metadata": {},
   "source": [
    "As we can see in the above values, certain columns like 'Male' have unknown values marked as '?', which is why is.na() did not catch them. Similarly, the 'Married' column has values 'y' & 'u', which denote either 'Married' or 'Not Married', and an additional value 'l', which is likely an error.\n",
    "\n",
    "Due to the data being completely anonmised, we shall not clean the incorrect values. However we will clean the '?' values after splitting the data."
   ]
  },
  {
   "cell_type": "markdown",
   "id": "d3203ae6-d75f-4efa-85a0-77cd0df3e2a0",
   "metadata": {
    "tags": []
   },
   "source": [
    "### **Exploratory Data Analysis**"
   ]
  },
  {
   "cell_type": "code",
   "execution_count": 8,
   "id": "6a3d188d-3306-4d8b-a341-86f2ebb6d3f7",
   "metadata": {},
   "outputs": [
    {
     "data": {
      "text/plain": [
       "<AxesSubplot:xlabel='Income', ylabel='Count'>"
      ]
     },
     "execution_count": 8,
     "metadata": {},
     "output_type": "execute_result"
    },
    {
     "data": {
      "image/png": "[encoded data removed]",
      "text/plain": [
       "<Figure size 504x504 with 4 Axes>"
      ]
     },
     "metadata": {
      "needs_background": "light"
     },
     "output_type": "display_data"
    }
   ],
   "source": [
    "# Viewing spread of the numerical data\n",
    "fig, axs = plt.subplots(2, 2, figsize=(7, 7))\n",
    "\n",
    "sns.histplot(cc_apps, x='Debt', bins = 60, ax=axs[0, 0])\n",
    "sns.histplot(cc_apps, x='YearsEmployed', bins = 60, ax=axs[0, 1])\n",
    "sns.histplot(cc_apps, x='CreditScore', bins = 60, ax=axs[1, 0])\n",
    "sns.histplot(cc_apps, x='Income', bins = 60, ax=axs[1, 1])"
   ]
  },
  {
   "cell_type": "code",
   "execution_count": 9,
   "id": "59f94f05-cbec-4901-b4f9-7dcf4933de11",
   "metadata": {},
   "outputs": [
    {
     "data": {
      "text/plain": [
       "<seaborn.axisgrid.PairGrid at 0x21ffaff8a90>"
      ]
     },
     "execution_count": 9,
     "metadata": {},
     "output_type": "execute_result"
    },
    {
     "data": {
      "image/png": "[encoded data removed]",
      "text/plain": [
       "<Figure size 720x720 with 20 Axes>"
      ]
     },
     "metadata": {},
     "output_type": "display_data"
    }
   ],
   "source": [
    "# Viewing for rough correlations between columns \n",
    "sns.set(rc={'figure.figsize':(11.7,8.27)})\n",
    "sns.pairplot(data=cc_apps)"
   ]
  },
  {
   "cell_type": "markdown",
   "id": "85199fa2-d805-4277-a051-37ff8d5cc988",
   "metadata": {},
   "source": [
    "### **Replacing Missing Values in Pandas**"
   ]
  },
  {
   "cell_type": "code",
   "execution_count": 10,
   "id": "cb7b2685-6d8c-4736-ad31-ced680258e96",
   "metadata": {},
   "outputs": [],
   "source": [
    "# Replace all instances of '?' with np.NaN\n",
    "cc_apps.replace('?', np.NaN, inplace=True)"
   ]
  },
  {
   "cell_type": "code",
   "execution_count": 11,
   "id": "cc69bc41-5dc0-43b0-a44a-a5d1e8650152",
   "metadata": {},
   "outputs": [],
   "source": [
    "# Splitting the data into the features and response\n",
    "X = cc_apps.drop('Approved', axis='columns')\n",
    "\n",
    "y = cc_apps['Approved']"
   ]
  },
  {
   "cell_type": "markdown",
   "id": "6734d13e-2a7e-4681-a001-58a171de1aa8",
   "metadata": {},
   "source": [
    "### **Preprocessing with Scikit-Learn**"
   ]
  },
  {
   "cell_type": "code",
   "execution_count": 12,
   "id": "9ceb1a46-f5cc-4aec-b94a-fb457598b82e",
   "metadata": {},
   "outputs": [],
   "source": [
    "# Set up preprocessing for numeric columns\n",
    "imp_mean = SimpleImputer(missing_values=np.NaN, strategy='mean', add_indicator=True) \n",
    "scaler = MinMaxScaler(feature_range=(0,1))"
   ]
  },
  {
   "cell_type": "code",
   "execution_count": 13,
   "id": "2a4568dd-4a90-45fe-9d58-3e6befb47d11",
   "metadata": {},
   "outputs": [],
   "source": [
    "# Set up preprocessing for categorical columns\n",
    "imp_constant = SimpleImputer(missing_values=np.NaN, strategy='most_frequent', add_indicator=True)\n",
    "ohe = OneHotEncoder(handle_unknown='ignore')"
   ]
  },
  {
   "cell_type": "code",
   "execution_count": 14,
   "id": "2cf323c4-c3ed-4ee7-a54f-34ff692ed079",
   "metadata": {},
   "outputs": [],
   "source": [
    "# Seleect columns by data type\n",
    "num_cols = make_column_selector(dtype_include='number')\n",
    "cat_cols = make_column_selector(dtype_include='object')"
   ]
  },
  {
   "cell_type": "code",
   "execution_count": 15,
   "id": "a4953f2e-6b09-4380-b7a0-d67636cf0b58",
   "metadata": {},
   "outputs": [],
   "source": [
    "# Standard preprocessing\n",
    "preprocessing = make_column_transformer(\n",
    "    (make_pipeline(imp_mean, scaler), num_cols),\n",
    "    (make_pipeline(imp_constant, ohe), cat_cols))"
   ]
  },
  {
   "cell_type": "code",
   "execution_count": 16,
   "id": "06a3b2f3-35c1-4a3b-adc3-ca98516d4a89",
   "metadata": {},
   "outputs": [],
   "source": [
    "# Creat pipeline\n",
    "pipe = make_pipeline(preprocessing, LogisticRegression())"
   ]
  },
  {
   "cell_type": "markdown",
   "id": "96be0332-68ee-4817-99ce-6a6868564b8c",
   "metadata": {},
   "source": [
    "### **Model Evaluation**"
   ]
  },
  {
   "cell_type": "code",
   "execution_count": 21,
   "id": "247dea8e-a687-4fd3-8d44-5236ce3f1b50",
   "metadata": {},
   "outputs": [
    {
     "data": {
      "text/plain": [
       "array([0.44927536, 0.8115942 , 0.97101449, 0.92753623, 0.97101449,\n",
       "       0.92753623, 0.85507246, 0.69565217, 1.        , 0.86956522])"
      ]
     },
     "execution_count": 21,
     "metadata": {},
     "output_type": "execute_result"
    }
   ],
   "source": [
    "# Cross-validate the pipeline\n",
    "cross_val_score(pipe, X, y, cv=10, scoring='accuracy')"
   ]
  },
  {
   "cell_type": "markdown",
   "id": "8336e927-48f2-495d-9de7-471bf8d081e6",
   "metadata": {},
   "source": [
    "### **Hyperparameter Tuning**"
   ]
  },
  {
   "cell_type": "code",
   "execution_count": 18,
   "id": "49c33d6a-a6bc-415d-bf69-269a41e676cf",
   "metadata": {},
   "outputs": [],
   "source": [
    "# Define the grid of values for tol and max_iter\n",
    "params = {}\n",
    "params['logisticregression__tol'] = [0.01, 0.001 ,0.0001]\n",
    "params['logisticregression__max_iter'] = [100, 150, 200]"
   ]
  },
  {
   "cell_type": "markdown",
   "id": "959b2632-13c7-4a40-b64e-77f735a1a878",
   "metadata": {},
   "source": [
    "### **Model Re-Evaluation Using GridSearchCV**"
   ]
  },
  {
   "cell_type": "code",
   "execution_count": 19,
   "id": "e6976c03-7a0d-4aaf-9891-2b4cfaae04ab",
   "metadata": {},
   "outputs": [],
   "source": [
    "# Instantiate GridSearchCV with the required parameters\n",
    "grid = GridSearchCV(pipe, params, cv=10, scoring='accuracy')\n",
    "\n",
    "# Fit grid to the data\n",
    "grid.fit(X, y);"
   ]
  },
  {
   "cell_type": "markdown",
   "id": "cf0322fe-c376-43cc-b5f2-3656c05e24a6",
   "metadata": {},
   "source": [
    "### **Summary**"
   ]
  },
  {
   "cell_type": "code",
   "execution_count": 20,
   "id": "76483013-4e70-4249-b342-265d0b763087",
   "metadata": {},
   "outputs": [
    {
     "name": "stdout",
     "output_type": "stream",
     "text": [
      "Best: 0.847826 using {'logisticregression__max_iter': 100, 'logisticregression__tol': 0.01}\n"
     ]
    }
   ],
   "source": [
    "# Summarise results\n",
    "best_score, best_params = grid.best_score_, grid.best_params_\n",
    "print(\"Best: %f using %s\" % (best_score, best_params))"
   ]
  }
 ],
 "metadata": {
  "kernelspec": {
   "display_name": "Python 3 (ipykernel)",
   "language": "python",
   "name": "python3"
  },
  "language_info": {
   "codemirror_mode": {
    "name": "ipython",
    "version": 3
   },
   "file_extension": ".py",
   "mimetype": "text/x-python",
   "name": "python",
   "nbconvert_exporter": "python",
   "pygments_lexer": "ipython3",
   "version": "3.9.7"
  }
 },
 "nbformat": 4,
 "nbformat_minor": 5
}
